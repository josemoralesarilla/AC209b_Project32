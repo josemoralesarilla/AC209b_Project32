{
 "cells": [
  {
   "cell_type": "markdown",
   "metadata": {},
   "source": [
    "# Milestone 1 - Notebook 301 \n",
    "## Helen's Exploration of IMDB Data\n",
    "### Notes:\n",
    "- Documentation for IMDB package: http://imdbpy.sourceforge.net/\n",
    "- Download page for IMDB package: https://pypi.python.org/pypi/IMDbPY\n",
    "- Installation command: pip install IMDbPY\n",
    "- Need to install C++ for Windows https://www.microsoft.com/en-us/download/details.aspx?id=44266\n",
    "- Uses imread: pip install imread\n",
    "- Image analysis tutorial: https://dawes.wordpress.com/2010/06/08/basic-image-analysis-python/\n",
    "\n",
    "### What this notebook does:\n",
    "- Retrieves IMDB data for one movie using IMDB id\n",
    "- Retrieves the TMDB movie poster path\n",
    "\n",
    "### Comments based on talking with Jose:\n",
    "- Some movies have multiple genres and the number of genres vary by movie. How do we deal with this kind of multi-category prediction problem? We could treat each genre as a separate prediction problem (horror or not, comedy or not). We could also make new genres that are combinations of unitary genres (horror and comedy or not, only comedy or not, only horror or not). Or, we could use PCA to create genre components and predict the components.\n",
    "- In any of these approaches above (except PCA), we would run into imbalanced datasets. We could address this by sampling equal numbers from each genre or multi-genre category. "
   ]
  },
  {
   "cell_type": "code",
   "execution_count": 57,
   "metadata": {
    "collapsed": false
   },
   "outputs": [],
   "source": [
    "from imdb import IMDb\n",
    "import urllib\n",
    "\n",
    "im = IMDb()"
   ]
  },
  {
   "cell_type": "code",
   "execution_count": 40,
   "metadata": {
    "collapsed": false
   },
   "outputs": [
    {
     "name": "stdout",
     "output_type": "stream",
     "text": [
      "(u'Django Unchained', 68718)\n"
     ]
    }
   ],
   "source": [
    "# From 401 delete when combining \n",
    "# Import tmdbsimple wrapper\n",
    "import tmdbsimple as tm\n",
    "tm.API_KEY = '8c7d0bb785cb396ff84c3392e3baa7f9'\n",
    "# Find Movie Code\n",
    "search = tm.Search()\n",
    "response = search.movie(query='Django Unchained')\n",
    "for s in search.results:\n",
    "    print(s['title'], s['id'])\n",
    "    p = s['id']\n",
    "    \n",
    "django = tm.Movies(p).info()\n"
   ]
  },
  {
   "cell_type": "code",
   "execution_count": 52,
   "metadata": {
    "collapsed": false
   },
   "outputs": [
    {
     "name": "stdout",
     "output_type": "stream",
     "text": [
      "[[ 253.  253.  253. ...,  253.  253.  253.]\n",
      " [ 253.  253.  253. ...,  253.  253.  253.]\n",
      " [ 253.  253.  253. ...,  253.  253.  253.]\n",
      " ..., \n",
      " [ 253.  253.  253. ...,  253.  253.  253.]\n",
      " [ 253.  253.  253. ...,  253.  253.  253.]\n",
      " [ 253.  253.  253. ...,  253.  253.  253.]]\n"
     ]
    }
   ],
   "source": [
    "# Need to add this to TMBD notebook\n",
    "django_poster = 'https://image.tmdb.org/t/p/w500/'+ django['poster_path']\n",
    "urllib.urlretrieve(django_poster,'django.jpg')"
   ]
  },
  {
   "cell_type": "code",
   "execution_count": 33,
   "metadata": {
    "collapsed": false
   },
   "outputs": [],
   "source": [
    "# Use the IMDB id from TMDB to get IMDB data\n",
    "django_id = django['imdb_id'][2:]\n",
    "django_imdb = im.get_movie(django_id)\n",
    "django_genres_imdb = django_imdb['genres']\n",
    "print django_genres_imdb"
   ]
  }
 ],
 "metadata": {
  "anaconda-cloud": {},
  "kernelspec": {
   "display_name": "Python [default]",
   "language": "python",
   "name": "python2"
  },
  "language_info": {
   "codemirror_mode": {
    "name": "ipython",
    "version": 2
   },
   "file_extension": ".py",
   "mimetype": "text/x-python",
   "name": "python",
   "nbconvert_exporter": "python",
   "pygments_lexer": "ipython2",
   "version": "2.7.12"
  }
 },
 "nbformat": 4,
 "nbformat_minor": 1
}
