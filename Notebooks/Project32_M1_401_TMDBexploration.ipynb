{
 "cells": [
  {
   "cell_type": "markdown",
   "metadata": {},
   "source": [
    "# Milestone 1 - Notebook 401 \n",
    "## JR's Exploration of TMDB Data\n",
    "### Notes:\n",
    "- JR's TMDB API Key: 8c7d0bb785cb396ff84c3392e3baa7f9\n",
    "- Working with tmdbsimple wrapper to obtain data (Check https://github.com/celiao/tmdbsimple/)\n",
    "- Author of tmdbsimple has a library with a Rotten Tomatoes Wrapper (Check https://pypi.python.org/pypi/rtsimple)\n",
    "\n",
    "### What this notebook does:\n",
    "- Import the tmdbsimple package\n",
    "- Obtain genre data for favorite movie\n",
    "- Obtain list of 20 most popular movies of 2016\n",
    "- Create dataframe with relevant characteristics of these movies\n",
    "- Create dataframe of genre per movie\n",
    "- Create and visualize dataframe of genre relative co-occurrance\n"
   ]
  },
  {
   "cell_type": "code",
   "execution_count": 1,
   "metadata": {
    "collapsed": false
   },
   "outputs": [],
   "source": [
    "# Import tmdbsimple wrapper\n",
    "import tmdbsimple as tm\n",
    "tm.API_KEY = '8c7d0bb785cb396ff84c3392e3baa7f9'"
   ]
  },
  {
   "cell_type": "code",
   "execution_count": 2,
   "metadata": {
    "collapsed": false
   },
   "outputs": [
    {
     "name": "stdout",
     "output_type": "stream",
     "text": [
      "(u'Django Unchained', 68718)\n",
      "Drama\n",
      "Western\n"
     ]
    }
   ],
   "source": [
    "# Find Movie Code\n",
    "search = tm.Search()\n",
    "response = search.movie(query='Django Unchained')\n",
    "for s in search.results:\n",
    "    print(s['title'], s['id'])\n",
    "    p = s['id']\n",
    "    \n",
    "# Obtain Genres for Django\n",
    "django = tm.Movies(p).info()\n",
    "print django['genres'][0]['name']\n",
    "print django['genres'][1]['name']"
   ]
  },
  {
   "cell_type": "code",
   "execution_count": 3,
   "metadata": {
    "collapsed": false
   },
   "outputs": [],
   "source": [
    "# Obtain list of genre names\n",
    "genre = tm.Genres()\n",
    "response = genre.list()\n",
    "g_codes = []\n",
    "g_names = []\n",
    "for s in genre.genres:\n",
    "    g_codes = [g_codes, s['id']]\n",
    "    g_names = [g_names, s['name']]"
   ]
  },
  {
   "cell_type": "code",
   "execution_count": 4,
   "metadata": {
    "collapsed": false
   },
   "outputs": [],
   "source": [
    "# Obtain most popular movies in 2016\n",
    "discover = tm.Discover()\n",
    "response = discover.movie(page = 1, year = 2016, \n",
    "                          sort_by = 'popularity.desc')\n",
    "t = []\n",
    "i = []\n",
    "p = []\n",
    "g = []\n",
    "g_name = []\n",
    "for s in discover.results:\n",
    "    t.append(s['title'])\n",
    "    i.append(s['id'])\n",
    "    p.append(s['popularity'])\n",
    "    g.append(s['genre_ids'])\n",
    "\n",
    "    temp = []\n",
    "    for k in s['genre_ids']:\n",
    "        for j in genre.genres:\n",
    "            if k == j['id']:\n",
    "                temp.append(j['name'])\n",
    "    g_name.append([temp])"
   ]
  },
  {
   "cell_type": "code",
   "execution_count": 5,
   "metadata": {
    "collapsed": false
   },
   "outputs": [],
   "source": [
    "# Produce Dataframe\n",
    "import pandas as pd\n",
    "data = pd.DataFrame(\n",
    "    {'title': t,\n",
    "     'id': i,\n",
    "     'popularity': p,\n",
    "     'genre_codes': g,\n",
    "     'genre_names': g_name\n",
    "    })"
   ]
  },
  {
   "cell_type": "code",
   "execution_count": 6,
   "metadata": {
    "collapsed": false
   },
   "outputs": [
    {
     "name": "stderr",
     "output_type": "stream",
     "text": [
      "/anaconda/lib/python2.7/site-packages/ipykernel/__main__.py:5: SettingWithCopyWarning: \n",
      "A value is trying to be set on a copy of a slice from a DataFrame\n",
      "\n",
      "See the caveats in the documentation: http://pandas.pydata.org/pandas-docs/stable/indexing.html#indexing-view-versus-copy\n"
     ]
    }
   ],
   "source": [
    "# Produce Movie/Genre Matrix\n",
    "from sklearn.feature_extraction.text import CountVectorizer as CVect\n",
    "data['genre_str'] = ''\n",
    "for i in range(len(data)):\n",
    "    data['genre_str'][i] = str(data['genre_names'][i])\n",
    "vect = CVect()\n",
    "corpus = data['genre_str'].values\n",
    "x = vect.fit_transform(corpus)\n",
    "x = x.toarray()\n",
    "n = vect.get_feature_names()\n",
    "l = len(n)\n",
    "matrix = pd.DataFrame({})\n",
    "for i in range(l):\n",
    "    matrix[str(n[i])] = x[:,i]"
   ]
  },
  {
   "cell_type": "code",
   "execution_count": 7,
   "metadata": {
    "collapsed": false
   },
   "outputs": [],
   "source": [
    "# Produce Genre/Genre Matrices of Relative Co-ocurrences\n",
    "import numpy as np\n",
    "xt = np.transpose(x)\n",
    "X = np.matmul(xt, x)\n",
    "\n",
    "from __future__ import division\n",
    "Xr = np.zeros((15,15))\n",
    "Xc = np.zeros((15,15))\n",
    "for i in range(15):\n",
    "    for j in range(15):\n",
    "        Xr[i,j] = X[i,j]/X[i,i]\n",
    "        Xc[i,j] = X[i,j]/X[j,j]\n",
    "Xt = (Xr + Xc) / float(2)"
   ]
  },
  {
   "cell_type": "code",
   "execution_count": 8,
   "metadata": {
    "collapsed": false
   },
   "outputs": [
    {
     "data": {
      "image/png": "[encoded data removed]",
      "text/plain": [
       "<matplotlib.figure.Figure at 0x115730b50>"
      ]
     },
     "metadata": {},
     "output_type": "display_data"
    }
   ],
   "source": [
    "# Visualize Genre/Genre Matrix of Relative Co-occurrence \n",
    "import matplotlib\n",
    "import matplotlib.pyplot as plt\n",
    "%matplotlib inline\n",
    "\n",
    "plt.imshow(Xt, cmap='Blues', interpolation='nearest')\n",
    "plt.title('Relative Genre Co-occurrence')\n",
    "plt.show()"
   ]
  },
  {
   "cell_type": "markdown",
   "metadata": {},
   "source": [
    "Highest relative co-occurrences of genres in 20 most popular movies of 2016 occur between:\n",
    "- Science and Fiction\n",
    "- Family and Animation\n",
    "- Comedy and Animation\n",
    "- Comedy and Family"
   ]
  }
 ],
 "metadata": {
  "kernelspec": {
   "display_name": "Python [Root]",
   "language": "python",
   "name": "Python [Root]"
  },
  "language_info": {
   "codemirror_mode": {
    "name": "ipython",
    "version": 2
   },
   "file_extension": ".py",
   "mimetype": "text/x-python",
   "name": "python",
   "nbconvert_exporter": "python",
   "pygments_lexer": "ipython2",
   "version": "2.7.12"
  }
 },
 "nbformat": 4,
 "nbformat_minor": 0
}
